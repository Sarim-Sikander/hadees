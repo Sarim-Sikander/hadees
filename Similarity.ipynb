{
 "cells": [
  {
   "cell_type": "code",
   "execution_count": 248,
   "id": "ca6ddcb7",
   "metadata": {},
   "outputs": [],
   "source": [
    "import pandas as pd\n",
    "from sklearn.feature_extraction.text import TfidfVectorizer"
   ]
  },
  {
   "cell_type": "code",
   "execution_count": 404,
   "id": "60c1f4c9",
   "metadata": {},
   "outputs": [],
   "source": [
    "def create_tfidf_features(corpus, max_features=2000000, max_df=0.97, min_df=1):\n",
    "    \n",
    "    tfidf_vectorizor = TfidfVectorizer(decode_error='replace', strip_accents='unicode', analyzer='word',\n",
    "                                       ngram_range=(1, 3), max_features=max_features,\n",
    "                                       norm='l2', use_idf=True, smooth_idf=True, sublinear_tf=True,\n",
    "                                       max_df=max_df, min_df=min_df)\n",
    "    X = tfidf_vectorizor.fit_transform(corpus)\n",
    "    return X, tfidf_vectorizor\n",
    "\n",
    "def calculate_similarity(X, vectorizor, query, top_k=5):    \n",
    "    query_vec = vectorizor.transform(query)\n",
    "    cosine_similarities = cosine_similarity(X,query_vec).flatten()    \n",
    "    most_similar_doc_indices = np.argsort(cosine_similarities, axis=0)[:-top_k-1:-1]\n",
    "    return (most_similar_doc_indices, cosine_similarities)\n",
    "\n",
    "def show_similar_documents(df, cosine_similarities, similar_doc_indices):\n",
    "    counter = 1\n",
    "    for index in similar_doc_indices:\n",
    "        if cosine_similarities[index] > 0.60:\n",
    "            print('Top-{}, Similarity = {}'.format(counter, cosine_similarities[index]))\n",
    "            print('Hadees: {}'.format(index))\n",
    "            print(df['Text'][index])\n",
    "            counter += 1"
   ]
  },
  {
   "cell_type": "code",
   "execution_count": 405,
   "id": "fc963307",
   "metadata": {},
   "outputs": [],
   "source": [
    "data = pd.read_csv('data_of_ahadees.csv')\n",
    "data = data[~data['Text'].isnull()].reset_index(drop=True)\n",
    "data['Text'] = data['Text'].apply(lambda x: str(x).strip())"
   ]
  },
  {
   "cell_type": "code",
   "execution_count": 406,
   "id": "1f73a310",
   "metadata": {},
   "outputs": [],
   "source": [
    "X,v = create_tfidf_features(data['Text'])"
   ]
  },
  {
   "cell_type": "code",
   "execution_count": 421,
   "id": "7f23db7f",
   "metadata": {},
   "outputs": [],
   "source": [
    "import pickle\n",
    "# pickle.dump(X, open('tfidfFeaturesX.pkl','wb'))\n",
    "# pickle.dump(v, open('tfidfVectorsV.pkl','wb'))\n",
    "X = pickle.load(open('tfidfFeaturesX.pkl','rb'))\n",
    "v = pickle.load(open('tfidfVectorsV.pkl','rb'))"
   ]
  },
  {
   "cell_type": "code",
   "execution_count": 422,
   "id": "c7acc988",
   "metadata": {},
   "outputs": [
    {
     "data": {
      "text/plain": [
       "1276589"
      ]
     },
     "execution_count": 422,
     "metadata": {},
     "output_type": "execute_result"
    }
   ],
   "source": [
    "features = v.get_feature_names()\n",
    "len(features)"
   ]
  },
  {
   "cell_type": "code",
   "execution_count": 423,
   "id": "c778670b",
   "metadata": {},
   "outputs": [],
   "source": [
    "import string\n",
    "user_question = [\"\"]\n",
    "sim_vecs, cosine_similarities = calculate_similarity(X, v, user_question,top_k=1)\n",
    "show_similar_documents(data,cosine_similarities, sim_vecs)"
   ]
  },
  {
   "cell_type": "code",
   "execution_count": null,
   "id": "2e083647",
   "metadata": {},
   "outputs": [],
   "source": []
  }
 ],
 "metadata": {
  "kernelspec": {
   "display_name": "Python 3",
   "language": "python",
   "name": "python3"
  },
  "language_info": {
   "codemirror_mode": {
    "name": "ipython",
    "version": 3
   },
   "file_extension": ".py",
   "mimetype": "text/x-python",
   "name": "python",
   "nbconvert_exporter": "python",
   "pygments_lexer": "ipython3",
   "version": "3.8.8"
  }
 },
 "nbformat": 4,
 "nbformat_minor": 5
}
